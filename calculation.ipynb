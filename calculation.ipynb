{
 "cells": [
  {
   "cell_type": "code",
   "execution_count": 21,
   "metadata": {},
   "outputs": [
    {
     "name": "stdout",
     "output_type": "stream",
     "text": [
      "Requirement already satisfied: pandas in c:\\users\\sh7512054\\appdata\\local\\programs\\python\\python313\\lib\\site-packages (2.2.3)\n",
      "Requirement already satisfied: numpy>=1.26.0 in c:\\users\\sh7512054\\appdata\\local\\programs\\python\\python313\\lib\\site-packages (from pandas) (2.2.4)\n",
      "Requirement already satisfied: python-dateutil>=2.8.2 in c:\\users\\sh7512054\\appdata\\roaming\\python\\python313\\site-packages (from pandas) (2.9.0.post0)\n",
      "Requirement already satisfied: pytz>=2020.1 in c:\\users\\sh7512054\\appdata\\local\\programs\\python\\python313\\lib\\site-packages (from pandas) (2025.2)\n",
      "Requirement already satisfied: tzdata>=2022.7 in c:\\users\\sh7512054\\appdata\\local\\programs\\python\\python313\\lib\\site-packages (from pandas) (2025.2)\n",
      "Requirement already satisfied: six>=1.5 in c:\\users\\sh7512054\\appdata\\roaming\\python\\python313\\site-packages (from python-dateutil>=2.8.2->pandas) (1.17.0)\n"
     ]
    },
    {
     "name": "stderr",
     "output_type": "stream",
     "text": [
      "\n",
      "[notice] A new release of pip is available: 24.3.1 -> 25.0.1\n",
      "[notice] To update, run: python.exe -m pip install --upgrade pip\n"
     ]
    }
   ],
   "source": [
    "!pip install pandas"
   ]
  },
  {
   "cell_type": "code",
   "execution_count": 22,
   "metadata": {},
   "outputs": [],
   "source": [
    "import pandas as pd"
   ]
  },
  {
   "cell_type": "code",
   "execution_count": 23,
   "metadata": {},
   "outputs": [],
   "source": [
    "with pd.ExcelFile('Inputs.xlsx') as book:\n",
    "    risk_ranking_weights = pd.read_excel(book, 'Risk Ranking Weights')\n",
    "    non_union_rates = pd.read_excel(book, 'Non-Union Rates')\n",
    "    union_rates = pd.read_excel(book, 'Union Rates')\n",
    "    checkpoint_costs = pd.read_excel(book, 'Checkpoint Costs')\n",
    "    df = pd.read_excel(book, 'merged_data_union')"
   ]
  },
  {
   "cell_type": "code",
   "execution_count": 24,
   "metadata": {},
   "outputs": [],
   "source": [
    "# Fix formating\n",
    "df['DateCreated'] = pd.to_datetime(df['DateCreated'], format = 'mixed', )\n",
    "df['DateFixed'] = pd.to_datetime(df['DateFixed'], format = 'mixed')"
   ]
  },
  {
   "cell_type": "code",
   "execution_count": 25,
   "metadata": {},
   "outputs": [],
   "source": [
    "# Step 1: Drop duplicates to ensure uniqueness\n",
    "checkpoint_time_map = (\n",
    "    checkpoint_costs[[\"Checkpoint ID\", \"Time taken to complete task (in mins)\"]]\n",
    "    .drop_duplicates(subset=\"Checkpoint ID\")\n",
    "    .set_index(\"Checkpoint ID\")[\"Time taken to complete task (in mins)\"]\n",
    ")\n",
    "\n",
    "# Step 2: Map the times into df\n",
    "df[\"Time taken to complete task (in mins)\"] = df[\"Checkpoint ID\"].map(checkpoint_time_map)\n"
   ]
  },
  {
   "cell_type": "code",
   "execution_count": 26,
   "metadata": {},
   "outputs": [],
   "source": [
    "# Step 0: Convert Minute Rate columns to numeric (handle strings with $ or commas if present)\n",
    "union_rates[\"Minute Rate\"] = pd.to_numeric(union_rates[\"Minute Rate\"], errors='coerce')\n",
    "non_union_rates[\"Minute Rate\"] = pd.to_numeric(non_union_rates[\"Minute Rate\"], errors='coerce')\n",
    "\n",
    "# Step 1: Create lookup dictionaries\n",
    "union_rate_map = union_rates.set_index(\"Code\")[\"Minute Rate\"].to_dict()\n",
    "non_union_rate_map = non_union_rates.set_index(\"Code\")[\"Minute Rate\"].to_dict()\n",
    "\n",
    "# Step 2: Function to choose correct rate\n",
    "def get_minute_rate(row):\n",
    "    party = row[\"ResponsibleParty\"]\n",
    "    if row[\"Union / Non-Union\"] == \"Union\":\n",
    "        return union_rate_map.get(party)\n",
    "    else:\n",
    "        return non_union_rate_map.get(party)\n",
    "\n",
    "# Step 3: Apply to df\n",
    "df[\"Minute Rate (based on union/non-union)\"] = df.apply(get_minute_rate, axis=1)\n"
   ]
  },
  {
   "cell_type": "code",
   "execution_count": 27,
   "metadata": {},
   "outputs": [],
   "source": [
    "# Step 1: Create Risk Ranking → Weight lookup\n",
    "risk_weight_map = risk_ranking_weights.set_index(\"Risk Ranking\")[\"Weights\"].to_dict()\n",
    "\n",
    "# Step 2: Calculate cost to re-do directly using mapped weight\n",
    "df[\"Cost to re-do (based on hourly wage and multiplier)\"] = (\n",
    "    df[\"Time taken to complete task (in mins)\"] *\n",
    "    df[\"Minute Rate (based on union/non-union)\"] *\n",
    "    df[\"RiskRanking\"].map(risk_weight_map)\n",
    ")\n"
   ]
  },
  {
   "cell_type": "code",
   "execution_count": 28,
   "metadata": {},
   "outputs": [],
   "source": [
    "# Step 1: Create mapping for material cost\n",
    "material_cost_map = (\n",
    "    checkpoint_costs[[\"Checkpoint ID\", \"Material Cost\"]]\n",
    "    .drop_duplicates(subset=\"Checkpoint ID\")\n",
    "    .set_index(\"Checkpoint ID\")[\"Material Cost\"]\n",
    ")\n",
    "\n",
    "# Step 2: Map into df\n",
    "df[\"Material Cost\"] = df[\"Checkpoint ID\"].map(material_cost_map)\n"
   ]
  },
  {
   "cell_type": "code",
   "execution_count": 29,
   "metadata": {},
   "outputs": [],
   "source": [
    "df[\"Total cost to re-do task\"] = (\n",
    "    df[\"Cost to re-do (based on hourly wage and multiplier)\"] +\n",
    "    df[\"Material Cost\"]\n",
    ")\n"
   ]
  },
  {
   "cell_type": "code",
   "execution_count": 30,
   "metadata": {},
   "outputs": [],
   "source": [
    "df.to_excel('Outputs.xlsx', index=False)"
   ]
  }
 ],
 "metadata": {
  "kernelspec": {
   "display_name": "Python 3",
   "language": "python",
   "name": "python3"
  },
  "language_info": {
   "codemirror_mode": {
    "name": "ipython",
    "version": 3
   },
   "file_extension": ".py",
   "mimetype": "text/x-python",
   "name": "python",
   "nbconvert_exporter": "python",
   "pygments_lexer": "ipython3",
   "version": "3.13.2"
  }
 },
 "nbformat": 4,
 "nbformat_minor": 2
}
